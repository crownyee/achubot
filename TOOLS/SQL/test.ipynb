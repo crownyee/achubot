{
 "cells": [
  {
   "cell_type": "code",
   "execution_count": 5,
   "metadata": {},
   "outputs": [],
   "source": [
    "import mysql.connector\n",
    "\n",
    "def create_connt():\n",
    "    db = mysql.connector.connect(\n",
    "        host=\"discordpy.ceeczxvlibup.ap-northeast-1.rds.amazonaws.com\",\n",
    "        user=\"chuchu\",\n",
    "        password=\"90092727\",\n",
    "        database=\"discordpy_db\"\n",
    "    )\n",
    "    return db\n",
    "\n",
    "def create_table(db):\n",
    "    cursor = db.cursor()\n",
    "    create_table_query = \"\"\"\n",
    "    CREATE TABLE members (\n",
    "        username VARCHAR(255),\n",
    "        user_id VARCHAR(255),\n",
    "        user_photo VARCHAR(255),\n",
    "        sign_in INT DEFAULT 1,\n",
    "        point INT DEFAULT 200\n",
    "    )\n",
    "    \"\"\" \n",
    "    cursor.execute(create_table_query)\n",
    "\n",
    "def ALTER_table(db):\n",
    "    cursor = db.cursor()\n",
    "    alter_table_query = \"\"\"\n",
    "    ALTER TABLE members\n",
    "    ALTER COLUMN point SET DEFAULT 200\n",
    "    \"\"\"\n",
    "    cursor.execute(alter_table_query)\n",
    "    db.commit()"
   ]
  },
  {
   "cell_type": "code",
   "execution_count": 2,
   "metadata": {},
   "outputs": [],
   "source": [
    "db = create_connt()\n",
    "cursor = db.cursor()"
   ]
  },
  {
   "cell_type": "code",
   "execution_count": null,
   "metadata": {},
   "outputs": [],
   "source": [
    "create_table(db)"
   ]
  },
  {
   "cell_type": "code",
   "execution_count": 6,
   "metadata": {},
   "outputs": [],
   "source": [
    "ALTER_table(db)"
   ]
  },
  {
   "cell_type": "code",
   "execution_count": 7,
   "metadata": {},
   "outputs": [
    {
     "name": "stdout",
     "output_type": "stream",
     "text": [
      "['阿哈哈哈', '820697596535635968', 'https://cdn.discordapp.com/avatars/820697596535635968/8ac9675e6b092c0232038735ce978e90.png?size=1024', 1, None]\n"
     ]
    }
   ],
   "source": [
    "# 执行查询语句\n",
    "select_query = \"SELECT * FROM members\"\n",
    "cursor.execute(select_query)\n",
    "\n",
    "# 获取查询结果\n",
    "results = cursor.fetchall()\n",
    "\n",
    "# 将查询结果转换为列表\n",
    "data_list = []\n",
    "for row in results:\n",
    "    data_list.append(list(row))\n",
    "\n",
    "# 打印数据列表\n",
    "for row in data_list:\n",
    "    print(row)"
   ]
  },
  {
   "cell_type": "code",
   "execution_count": 8,
   "metadata": {},
   "outputs": [
    {
     "name": "stdout",
     "output_type": "stream",
     "text": [
      "Field: 阿哈哈哈, Type: 820697596535635968\n"
     ]
    }
   ],
   "source": [
    "# 打印每个字段的属性\n",
    "for field in results:\n",
    "    field_name = field[0]\n",
    "    field_type = field[1]\n",
    "    print(f\"Field: {field_name}, Type: {field_type}\")"
   ]
  },
  {
   "cell_type": "code",
   "execution_count": 9,
   "metadata": {},
   "outputs": [],
   "source": [
    "# 删除表\n",
    "cursor = db.cursor()\n",
    "drop_query = \"DROP TABLE members\"\n",
    "cursor.execute(drop_query)\n",
    "\n",
    "# 提交更改\n",
    "db.commit()"
   ]
  },
  {
   "cell_type": "code",
   "execution_count": null,
   "metadata": {},
   "outputs": [],
   "source": [
    "#關閉\n",
    "cursor = db.cursor()\n",
    "db.commit()\n",
    "cursor.close()\n",
    "db.close()"
   ]
  },
  {
   "cell_type": "code",
   "execution_count": null,
   "metadata": {},
   "outputs": [],
   "source": [
    "#關閉\n",
    "cursor = db.cursor()\n",
    "db.commit()\n",
    "cursor.close()\n",
    "db.close()"
   ]
  },
  {
   "cell_type": "code",
   "execution_count": null,
   "metadata": {},
   "outputs": [],
   "source": [
    "#關閉\n",
    "cursor = db.cursor()\n",
    "db.commit()\n",
    "cursor.close()\n",
    "db.close()"
   ]
  },
  {
   "cell_type": "code",
   "execution_count": null,
   "metadata": {},
   "outputs": [],
   "source": [
    "#關閉\n",
    "cursor = db.cursor()\n",
    "db.commit()\n",
    "cursor.close()\n",
    "db.close()"
   ]
  },
  {
   "cell_type": "code",
   "execution_count": null,
   "metadata": {},
   "outputs": [],
   "source": [
    "#關閉\n",
    "cursor = db.cursor()\n",
    "db.commit()\n",
    "cursor.close()\n",
    "db.close()"
   ]
  },
  {
   "cell_type": "code",
   "execution_count": null,
   "metadata": {},
   "outputs": [],
   "source": [
    "#關閉\n",
    "cursor = db.cursor()\n",
    "db.commit()\n",
    "cursor.close()\n",
    "db.close()"
   ]
  }
 ],
 "metadata": {
  "kernelspec": {
   "display_name": "Python 3",
   "language": "python",
   "name": "python3"
  },
  "language_info": {
   "codemirror_mode": {
    "name": "ipython",
    "version": 3
   },
   "file_extension": ".py",
   "mimetype": "text/x-python",
   "name": "python",
   "nbconvert_exporter": "python",
   "pygments_lexer": "ipython3",
   "version": "3.9.6"
  }
 },
 "nbformat": 4,
 "nbformat_minor": 2
}
